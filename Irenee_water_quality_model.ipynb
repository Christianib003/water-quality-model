{
  "cells": [
    {
      "cell_type": "markdown",
      "metadata": {
        "id": "view-in-github",
        "colab_type": "text"
      },
      "source": [
        "<a href=\"https://colab.research.google.com/github/Christianib003/water-quality-model/blob/Irenee/Irenee_water_quality_model.ipynb\" target=\"_parent\"><img src=\"https://colab.research.google.com/assets/colab-badge.svg\" alt=\"Open In Colab\"/></a>"
      ]
    },
    {
      "cell_type": "markdown",
      "metadata": {
        "id": "Vy9Wfcye9Pwh"
      },
      "source": [
        "# FORMATIVE ASSIGNMENT II: WATER QUALITY MODEL\n",
        "\n",
        "## 1. Introduction\n",
        "**Assignment**: Building a Classification Model Using Neural Networks\n",
        "\n",
        "**Objective:**\n",
        "Develop a neural network-based classification model using a provided dataset, incorporating multiple optimization techniques and ensuring equitable group contribution.\n",
        "\n",
        "**In this notebook, we will take the cleaned and imputed dataset and use it to train, test, and evaluate a deep learning model**:\n",
        "\n",
        "The key steps we'll cover are:\n",
        "1. Loading the preprocessed (imputed) dataset.\n",
        "2. Separating features and the target variable.\n",
        "3. Splitting the dataset into three distinct portions: training, validation, and testing sets. This is crucial for robust model development and evaluation.\n",
        "4. Applying feature scaling (StandardScaler) correctly after the split to prevent data leakage.\n",
        "\n",
        "**Note:** The data cleaning and imputation steps were performed in a previous notebook.\n",
        "If you'd like to review that process, please refer to: [Data Preprocessing Notebook](data_preprocessing.ipynb).\n",
        "\n",
        "**Model Details**\n",
        "\n",
        "\n",
        "| Engineer Name     | Regularizer | Optimizer | Early Stopping  | Dropout Rate | Learning Rate |\n",
        "| ----------------- | ---------------------------- | --------- | ------------------------------------------------ | ------------ | ------------- |\n",
        "| Irenee Dusingizimana | L2           | AdamW      | Patience=10                 | 0.01        | 0.0001       |\n",
        "\n"
      ]
    },
    {
      "cell_type": "code",
      "source": [
        "from google.colab import drive\n",
        "drive.mount('/content/drive')"
      ],
      "metadata": {
        "colab": {
          "base_uri": "https://localhost:8080/"
        },
        "id": "PpTcs01h9g4w",
        "outputId": "f4dd21e0-744e-4680-83e6-81966540e1d3"
      },
      "execution_count": 36,
      "outputs": [
        {
          "output_type": "stream",
          "name": "stdout",
          "text": [
            "Drive already mounted at /content/drive; to attempt to forcibly remount, call drive.mount(\"/content/drive\", force_remount=True).\n"
          ]
        }
      ]
    },
    {
      "cell_type": "markdown",
      "metadata": {
        "id": "sUXAENxq9Pwk"
      },
      "source": [
        "## 2. Feature Scaling\n",
        "### 2.1 Declaring Utility Functions"
      ]
    },
    {
      "cell_type": "code",
      "execution_count": 37,
      "metadata": {
        "id": "AntCJvdn9Pwk"
      },
      "outputs": [],
      "source": [
        "import tensorflow as tf\n",
        "from tensorflow.keras.layers import Dense, Flatten, Dropout\n",
        "from tensorflow.keras.models import Sequential\n",
        "from tensorflow.keras.callbacks import EarlyStopping\n",
        "from sklearn.preprocessing import StandardScaler\n",
        "import seaborn as sns\n",
        "import numpy as np\n",
        "import pandas as pd\n",
        "import matplotlib.pyplot as plt\n",
        "from sklearn.model_selection import train_test_split\n",
        "from tensorflow import keras\n",
        "from tensorflow.keras import layers, regularizers\n",
        "from tensorflow.keras.optimizers import AdamW\n",
        "from sklearn.metrics import accuracy_score, precision_score, recall_score, f1_score, classification_report, confusion_matrix"
      ]
    },
    {
      "cell_type": "code",
      "execution_count": 38,
      "metadata": {
        "id": "RBNzCKwq9Pwl"
      },
      "outputs": [],
      "source": [
        "def load_data(file_path: str) -> pd.DataFrame:\n",
        "    \"\"\"\n",
        "    Loads a CSV file into a pandas DataFrame.\n",
        "\n",
        "    Args:\n",
        "        file_path (str): The path to the CSV file.\n",
        "\n",
        "    Returns:\n",
        "        pd.DataFrame: The loaded DataFrame.\n",
        "\n",
        "    Raises:\n",
        "        TypeError: If file_path is not a string.\n",
        "        FileNotFoundError: If the file specified by file_path is not found.\n",
        "        Exception: For other pandas-related read errors.\n",
        "    \"\"\"\n",
        "    if not isinstance(file_path, str):\n",
        "        raise TypeError(\"file_path must be a string.\")\n",
        "    try:\n",
        "        df = pd.read_csv(file_path)\n",
        "        print(f\"Successfully loaded dataset from: {file_path}\")\n",
        "        return df\n",
        "    except FileNotFoundError:\n",
        "        raise FileNotFoundError(f\"Error: The file '{file_path}' was not found.\")\n",
        "    except Exception as e:\n",
        "        raise Exception(f\"Error reading CSV file '{file_path}': {e}\")"
      ]
    },
    {
      "cell_type": "code",
      "execution_count": 39,
      "metadata": {
        "id": "fQ2UaD9F9Pwm"
      },
      "outputs": [],
      "source": [
        "# Display the first few rows of the dataset\n",
        "# We verify the columns, data types, and ensure that our imputation worked\n",
        "# All columns should have non-null counts matching the total number of entries.\n",
        "def display_initial_info(df: pd.DataFrame):\n",
        "    \"\"\"\n",
        "    Displays the first few rows and basic info of a DataFrame.\n",
        "\n",
        "    Args:\n",
        "        df (pd.DataFrame): The DataFrame to inspect.\n",
        "\n",
        "    Raises:\n",
        "        TypeError: If df is not a pandas DataFrame.\n",
        "        ValueError: If df is None.\n",
        "    \"\"\"\n",
        "    print(\"===============First 5 rows:===============\")\n",
        "    print(df.head())\n",
        "    print(\"\\n===============Information:===============\")\n",
        "    df.info()"
      ]
    },
    {
      "cell_type": "code",
      "execution_count": 40,
      "metadata": {
        "id": "sir2PCeB9Pwn"
      },
      "outputs": [],
      "source": [
        "def separate_features_target(df: pd.DataFrame, target_column: str) -> tuple[pd.DataFrame, pd.Series]:\n",
        "    \"\"\"\n",
        "    Separates features and the target variable from a DataFrame.\n",
        "\n",
        "    Args:\n",
        "        df (pd.DataFrame): The DataFrame to separate.\n",
        "        target_column (str): The name of the target column.\n",
        "\n",
        "    Returns:\n",
        "        tuple[pd.DataFrame, pd.Series]: A tuple containing features (X) and target (y).\n",
        "\n",
        "    Raises:\n",
        "        TypeError: If df is not a DataFrame or target_column is not a string.\n",
        "        ValueError: If df is None or target_column is not found in df.columns.\n",
        "    \"\"\"\n",
        "    if target_column not in df.columns:\n",
        "        raise ValueError(f\"Target column '{target_column}' not found in DataFrame columns: {df.columns.tolist()}\")\n",
        "\n",
        "    X = df.drop(columns=[target_column])\n",
        "    y = df[target_column]\n",
        "    print(f\"\\nFeatures (X) and target (y, column: '{target_column}') have been separated.\")\n",
        "    print(f\"Shape of features (X): {X.shape}\")\n",
        "    print(f\"Shape of target (y): {y.shape}\")\n",
        "    return X, y\n"
      ]
    },
    {
      "cell_type": "code",
      "execution_count": 41,
      "metadata": {
        "id": "v7bmi-q_9Pwn"
      },
      "outputs": [],
      "source": [
        "def split_data(X: pd.DataFrame, y: pd.Series,\n",
        "               test_size: float = 0.15,\n",
        "               val_relative_to_train_val_size: float = 0.15 / 0.85,\n",
        "               random_state: int = 42,\n",
        "               stratify_data: bool = True) -> tuple[pd.DataFrame, pd.DataFrame, pd.DataFrame, pd.Series, pd.Series, pd.Series]:\n",
        "    \"\"\"\n",
        "    Splits feature and target data into training, validation, and test sets.\n",
        "\n",
        "    Args:\n",
        "        X (pd.DataFrame): Features.\n",
        "        y (pd.Series): Target variable.\n",
        "        test_size (float): Proportion of the dataset to allocate to the test set.\n",
        "        val_relative_to_train_val_size (float): Proportion of the (train+validation) set to allocate to validation.\n",
        "        random_state (int): Seed for random number generator for reproducibility.\n",
        "        stratify_data (bool): Whether to stratify the split based on the target variable y.\n",
        "\n",
        "    Returns:\n",
        "        tuple: X_train, X_val, X_test, y_train, y_val, y_test\n",
        "\n",
        "    Raises:\n",
        "        TypeError: If X is not a DataFrame or y is not a Series.\n",
        "        ValueError: If X or y is None, or if shapes are incompatible.\n",
        "    \"\"\"\n",
        "    if len(X) != len(y):\n",
        "        raise ValueError(f\"Shape mismatch: X has {len(X)} samples, y has {len(y)} samples.\")\n",
        "\n",
        "    stratify_option_main = y if stratify_data else None\n",
        "    X_train_val, X_test, y_train_val, y_test = train_test_split(\n",
        "        X, y, test_size=test_size, random_state=random_state, stratify=stratify_option_main\n",
        "    )\n",
        "\n",
        "    stratify_option_tv = y_train_val if stratify_data else None\n",
        "    X_train, X_val, y_train, y_val = train_test_split(\n",
        "        X_train_val, y_train_val, test_size=val_relative_to_train_val_size,\n",
        "        random_state=random_state, stratify=stratify_option_tv\n",
        "    )\n",
        "\n",
        "    print(\"\\nData splitting completed.\")\n",
        "    return X_train, X_val, X_test, y_train, y_val, y_test"
      ]
    },
    {
      "cell_type": "code",
      "execution_count": 42,
      "metadata": {
        "id": "wCniDZWd9Pwn"
      },
      "outputs": [],
      "source": [
        "def scale_features(X_train: pd.DataFrame, X_val: pd.DataFrame, X_test: pd.DataFrame) -> tuple[StandardScaler, pd.DataFrame, pd.DataFrame, pd.DataFrame]:\n",
        "    \"\"\"\n",
        "    Fits StandardScaler on X_train and transforms X_train, X_val, X_test.\n",
        "\n",
        "    Args:\n",
        "        X_train (pd.DataFrame): Training features.\n",
        "        X_val (pd.DataFrame): Validation features.\n",
        "        X_test (pd.DataFrame): Test features.\n",
        "\n",
        "    Returns:\n",
        "        tuple: The fitted scaler object, and the scaled DataFrames (X_train_scaled, X_val_scaled, X_test_scaled).\n",
        "\n",
        "    Raises:\n",
        "        TypeError: If any input is not a pandas DataFrame.\n",
        "        ValueError: If any input DataFrame is None.\n",
        "    \"\"\"\n",
        "    for df_name, df_obj in [(\"X_train\", X_train), (\"X_val\", X_val), (\"X_test\", X_test)]:\n",
        "        if not isinstance(df_obj, pd.DataFrame):\n",
        "            raise TypeError(f\"Input '{df_name}' must be a pandas DataFrame. Got {type(df_obj)}.\")\n",
        "        if df_obj is None:\n",
        "            raise ValueError(f\"Input DataFrame '{df_name}' cannot be None.\")\n",
        "\n",
        "    scaler = StandardScaler()\n",
        "\n",
        "    print(\"\\nFitting StandardScaler on X_train...\")\n",
        "    # Ensure X_train has data (not empty) before fitting\n",
        "    if X_train.empty:\n",
        "        raise ValueError(\"X_train is empty, cannot fit StandardScaler.\")\n",
        "    scaler.fit(X_train) # Fit ONLY on training data\n",
        "    print(\"Scaler fitted.\")\n",
        "\n",
        "    print(\"Transforming X_train, X_val, and X_test...\")\n",
        "    X_train_scaled_array = scaler.transform(X_train)\n",
        "    X_val_scaled_array = scaler.transform(X_val)\n",
        "    X_test_scaled_array = scaler.transform(X_test)\n",
        "    print(\"Transformation complete.\")\n",
        "\n",
        "    # Convert back to DataFrames\n",
        "    X_train_scaled = pd.DataFrame(X_train_scaled_array, columns=X_train.columns, index=X_train.index)\n",
        "    X_val_scaled = pd.DataFrame(X_val_scaled_array, columns=X_val.columns, index=X_val.index)\n",
        "    X_test_scaled = pd.DataFrame(X_test_scaled_array, columns=X_test.columns, index=X_test.index)\n",
        "    print(\"Scaled data converted back to DataFrames.\")\n",
        "\n",
        "    return scaler, X_train_scaled, X_val_scaled, X_test_scaled\n",
        "\n"
      ]
    },
    {
      "cell_type": "markdown",
      "metadata": {
        "id": "AFk1PSzD9Pwo"
      },
      "source": [
        "### 2.2 Feature Scaling Implementation"
      ]
    },
    {
      "cell_type": "code",
      "execution_count": 43,
      "metadata": {
        "id": "IyieXrRL9Pwo",
        "colab": {
          "base_uri": "https://localhost:8080/"
        },
        "outputId": "4209a2d3-00f8-410e-ef32-788c48d9f768"
      },
      "outputs": [
        {
          "output_type": "stream",
          "name": "stdout",
          "text": [
            "===============First 5 rows:===============\n",
            "         ph    Hardness        Solids  Chloramines     Sulfate  Conductivity  \\\n",
            "0  7.036752  204.890455  20791.318981     7.300212  368.516441    564.308654   \n",
            "1  3.716080  129.422921  18630.057858     6.635246  333.073546    592.885359   \n",
            "2  8.099124  224.236259  19909.541732     9.275884  333.073546    418.606213   \n",
            "3  8.316766  214.373394  22018.417441     8.059332  356.886136    363.266516   \n",
            "4  9.092223  181.101509  17978.986339     6.546600  310.135738    398.410813   \n",
            "\n",
            "   Organic_carbon  Trihalomethanes  Turbidity  Potability  \n",
            "0       10.379783        86.990970   2.963135           0  \n",
            "1       15.180013        56.329076   4.500656           0  \n",
            "2       16.868637        66.420093   3.055934           0  \n",
            "3       18.436524       100.341674   4.628771           0  \n",
            "4       11.558279        31.997993   4.075075           0  \n",
            "\n",
            "===============Information:===============\n",
            "<class 'pandas.core.frame.DataFrame'>\n",
            "RangeIndex: 3276 entries, 0 to 3275\n",
            "Data columns (total 10 columns):\n",
            " #   Column           Non-Null Count  Dtype  \n",
            "---  ------           --------------  -----  \n",
            " 0   ph               3276 non-null   float64\n",
            " 1   Hardness         3276 non-null   float64\n",
            " 2   Solids           3276 non-null   float64\n",
            " 3   Chloramines      3276 non-null   float64\n",
            " 4   Sulfate          3276 non-null   float64\n",
            " 5   Conductivity     3276 non-null   float64\n",
            " 6   Organic_carbon   3276 non-null   float64\n",
            " 7   Trihalomethanes  3276 non-null   float64\n",
            " 8   Turbidity        3276 non-null   float64\n",
            " 9   Potability       3276 non-null   int64  \n",
            "dtypes: float64(9), int64(1)\n",
            "memory usage: 256.1 KB\n"
          ]
        }
      ],
      "source": [
        "# Here, we load the dataset that has already undergone cleaning and imputation.\n",
        "# It's important to use the version where missing values have already been handled.\n",
        "# Path to the file which has already missing fields handled\n",
        "FILE_PATH_IMPUTED = \"../data/imputed_water_potability_data.csv\"\n",
        "\n",
        "# Load the dataset\n",
        "data = pd.read_csv('/content/drive/MyDrive/imputed_water_potability_data.csv')\n",
        "data.head()\n",
        "\n",
        "# Display the overview of the dataset\n",
        "display_initial_info(data)"
      ]
    },
    {
      "cell_type": "code",
      "execution_count": 44,
      "metadata": {
        "id": "G7hbNQ2g9Pwo",
        "colab": {
          "base_uri": "https://localhost:8080/"
        },
        "outputId": "d8a7757b-1869-40ea-d0ea-ae48a114dca1"
      },
      "outputs": [
        {
          "output_type": "stream",
          "name": "stdout",
          "text": [
            "\n",
            "Features (X) and target (y, column: 'Potability') have been separated.\n",
            "Shape of features (X): (3276, 9)\n",
            "Shape of target (y): (3276,)\n"
          ]
        }
      ],
      "source": [
        "# Separate features and target variable\n",
        "X, y = separate_features_target(data, \"Potability\")"
      ]
    },
    {
      "cell_type": "code",
      "execution_count": 45,
      "metadata": {
        "id": "NQUdd7k99Pwo",
        "colab": {
          "base_uri": "https://localhost:8080/"
        },
        "outputId": "f11ac4b7-a29d-43a2-8ada-5456eaf5c3d2"
      },
      "outputs": [
        {
          "output_type": "stream",
          "name": "stdout",
          "text": [
            "\n",
            "Data splitting completed.\n",
            "Shape of X_train: (2292, 9), y_train: (2292,)\n",
            "Shape of X_val: (492, 9), y_val: (492,)\n",
            "Shape of X_test: (492, 9), y_test: (492,)\n",
            "\n",
            "Proportion of samples in each set (approximate):\n",
            "Training set: 69.96%\n",
            "Validation set: 15.02%\n",
            "Test set: 15.02%\n"
          ]
        }
      ],
      "source": [
        "# Initialize split variables to None\n",
        "X_train, X_val, X_test, y_train, y_val, y_test = [None] * 6\n",
        "\n",
        "if X is not None and y is not None:\n",
        "    try:\n",
        "        X_train, X_val, X_test, y_train, y_val, y_test = split_data(X, y, stratify_data=True)\n",
        "\n",
        "        # Display proportions\n",
        "        print(f\"Shape of X_train: {X_train.shape}, y_train: {y_train.shape}\")\n",
        "        print(f\"Shape of X_val: {X_val.shape}, y_val: {y_val.shape}\")\n",
        "        print(f\"Shape of X_test: {X_test.shape}, y_test: {y_test.shape}\")\n",
        "\n",
        "        total_samples = len(X)\n",
        "        print(\"\\nProportion of samples in each set (approximate):\")\n",
        "        print(f\"Training set: {len(X_train)/total_samples*100:.2f}%\")\n",
        "        print(f\"Validation set: {len(X_val)/total_samples*100:.2f}%\")\n",
        "        print(f\"Test set: {len(X_test)/total_samples*100:.2f}%\")\n",
        "\n",
        "    except TypeError as e:\n",
        "        raise ValueError(f\"TypeError during data splitting: {e}\")\n",
        "    except ValueError as e:\n",
        "        raise ValueError(f\"ValueError during data splitting: {e}\")\n",
        "else:\n",
        "    raise ValueError(\"X or y is None.\")"
      ]
    },
    {
      "cell_type": "code",
      "execution_count": 46,
      "metadata": {
        "id": "cCJyIi4R9Pwp",
        "colab": {
          "base_uri": "https://localhost:8080/"
        },
        "outputId": "5a82a8bd-c1c4-4599-f0bb-634f607d4663"
      },
      "outputs": [
        {
          "output_type": "stream",
          "name": "stdout",
          "text": [
            "\n",
            "Fitting StandardScaler on X_train...\n",
            "Scaler fitted.\n",
            "Transforming X_train, X_val, and X_test...\n",
            "Transformation complete.\n",
            "Scaled data converted back to DataFrames.\n",
            "\n",
            "--- Verification of Scaled Training Data ---\n",
            "===============First 5 rows:===============\n",
            "            ph  Hardness    Solids  Chloramines   Sulfate  Conductivity  \\\n",
            "2766  0.292120  0.027566  0.522327     0.038376 -1.781081     -0.634797   \n",
            "2505 -0.104021  0.816164 -0.481655     0.540023 -0.954435      0.033630   \n",
            "163  -0.647064 -1.665957 -1.420733     0.308547 -1.555323     -0.140706   \n",
            "43    1.961394  0.193955 -1.379953    -0.160524  0.108557     -1.163968   \n",
            "2040 -0.022284  1.805507 -0.796542     0.846080  0.798238      0.565539   \n",
            "\n",
            "      Organic_carbon  Trihalomethanes  Turbidity  \n",
            "2766       -0.341967         0.209553  -0.180315  \n",
            "2505       -0.619904         0.161566  -1.631684  \n",
            "163         0.672902        -0.993148   0.866453  \n",
            "43          2.973166         0.352298   0.939613  \n",
            "2040        0.099535        -1.655482  -0.941722  \n",
            "\n",
            "===============Information:===============\n",
            "<class 'pandas.core.frame.DataFrame'>\n",
            "Index: 2292 entries, 2766 to 1559\n",
            "Data columns (total 9 columns):\n",
            " #   Column           Non-Null Count  Dtype  \n",
            "---  ------           --------------  -----  \n",
            " 0   ph               2292 non-null   float64\n",
            " 1   Hardness         2292 non-null   float64\n",
            " 2   Solids           2292 non-null   float64\n",
            " 3   Chloramines      2292 non-null   float64\n",
            " 4   Sulfate          2292 non-null   float64\n",
            " 5   Conductivity     2292 non-null   float64\n",
            " 6   Organic_carbon   2292 non-null   float64\n",
            " 7   Trihalomethanes  2292 non-null   float64\n",
            " 8   Turbidity        2292 non-null   float64\n",
            "dtypes: float64(9)\n",
            "memory usage: 179.1 KB\n",
            "\n",
            "Descriptive statistics of X_train_scaled (mean ~0, std ~1):\n",
            "            ph  Hardness   Solids  Chloramines  Sulfate  Conductivity  \\\n",
            "count  2292.00   2292.00  2292.00      2292.00  2292.00       2292.00   \n",
            "mean     -0.00      0.00     0.00        -0.00     0.00         -0.00   \n",
            "std       1.00      1.00     1.00         1.00     1.00          1.00   \n",
            "min      -4.19     -4.52    -2.48        -3.43    -4.29         -3.06   \n",
            "25%      -0.56     -0.58    -0.71        -0.63    -0.46         -0.75   \n",
            "50%      -0.02      0.02    -0.11         0.01    -0.01         -0.05   \n",
            "75%       0.54      0.61     0.60         0.62     0.44          0.69   \n",
            "max       4.45      3.84     4.46         3.72     4.13          4.09   \n",
            "\n",
            "       Organic_carbon  Trihalomethanes  Turbidity  \n",
            "count         2292.00          2292.00    2292.00  \n",
            "mean             0.00             0.00       0.00  \n",
            "std              1.00             1.00       1.00  \n",
            "min             -3.04            -3.70      -3.17  \n",
            "25%             -0.67            -0.62      -0.67  \n",
            "50%             -0.02             0.02      -0.00  \n",
            "75%              0.69             0.64       0.67  \n",
            "max              3.92             3.67       3.57  \n",
            "\n",
            "Workflow complete. Data is prepared for model training.\n",
            "Prepared data sets:\n",
            "X_train_scaled: (2292, 9), y_train: (2292,)\n",
            "X_val_scaled: (492, 9), y_val: (492,)\n",
            "X_test_scaled: (492, 9), y_test: (492,)\n"
          ]
        }
      ],
      "source": [
        "scaler_object, X_train_scaled, X_val_scaled, X_test_scaled = [None] * 4\n",
        "\n",
        "if X_train is not None and X_val is not None and X_test is not None:\n",
        "    try:\n",
        "        scaler_object, X_train_scaled, X_val_scaled, X_test_scaled = scale_features(X_train, X_val, X_test)\n",
        "\n",
        "        print(\"\\n--- Verification of Scaled Training Data ---\")\n",
        "        display_initial_info(X_train_scaled)\n",
        "\n",
        "        print(\"\\nDescriptive statistics of X_train_scaled (mean ~0, std ~1):\")\n",
        "        print(X_train_scaled.describe().round(2))\n",
        "\n",
        "        print(\"\\nWorkflow complete. Data is prepared for model training.\")\n",
        "        print(\"Prepared data sets:\")\n",
        "        print(f\"X_train_scaled: {X_train_scaled.shape}, y_train: {y_train.shape if y_train is not None else 'N/A'}\")\n",
        "        print(f\"X_val_scaled: {X_val_scaled.shape}, y_val: {y_val.shape if y_val is not None else 'N/A'}\")\n",
        "        print(f\"X_test_scaled: {X_test_scaled.shape}, y_test: {y_test.shape if y_test is not None else 'N/A'}\")\n",
        "\n",
        "    except (TypeError, ValueError) as e:\n",
        "        print(f\"Error during feature scaling: {e}\")\n",
        "else:\n",
        "    print(\"Skipping feature scaling as data splits are not available.\")"
      ]
    },
    {
      "cell_type": "markdown",
      "metadata": {
        "id": "Z1xsVlwe9Pwp"
      },
      "source": [
        "## 3. Building and Training a Model\n",
        "\n",
        "..."
      ]
    },
    {
      "cell_type": "markdown",
      "source": [
        "### Defining Model"
      ],
      "metadata": {
        "id": "mvkO_2MenbHk"
      }
    },
    {
      "cell_type": "code",
      "source": [
        "# Define the model\n",
        "model = Sequential()\n",
        "model.add(Dense(64, activation='relu', kernel_regularizer=regularizers.l2(0.01), input_shape=(X.shape[1],)))\n",
        "model.add(Dropout(0.1))\n",
        "model.add(Dense(32, activation='relu', kernel_regularizer=regularizers.l2(0.01)))\n",
        "\n",
        "model.add(Dense(1, activation='sigmoid'))\n",
        "\n",
        "\n",
        "# Compile with AdamW optimizer\n",
        "optimizer = AdamW(learning_rate=0.0001)\n",
        "\n",
        "model.compile(optimizer=optimizer,\n",
        "              loss='binary_crossentropy',\n",
        "              metrics=['accuracy', keras.metrics.Precision(), keras.metrics.Recall()])"
      ],
      "metadata": {
        "colab": {
          "base_uri": "https://localhost:8080/"
        },
        "id": "b5gS_rdPnVp3",
        "outputId": "9ad3609e-3211-4d76-841c-8b2431b1fc94"
      },
      "execution_count": 47,
      "outputs": [
        {
          "output_type": "stream",
          "name": "stderr",
          "text": [
            "/usr/local/lib/python3.11/dist-packages/keras/src/layers/core/dense.py:87: UserWarning: Do not pass an `input_shape`/`input_dim` argument to a layer. When using Sequential models, prefer using an `Input(shape)` object as the first layer in the model instead.\n",
            "  super().__init__(activity_regularizer=activity_regularizer, **kwargs)\n"
          ]
        }
      ]
    },
    {
      "cell_type": "code",
      "source": [
        "model.summary()"
      ],
      "metadata": {
        "colab": {
          "base_uri": "https://localhost:8080/",
          "height": 257
        },
        "id": "Xljz58Mnn2rS",
        "outputId": "f765fce6-e11f-4dca-da0d-514c1be90385"
      },
      "execution_count": 48,
      "outputs": [
        {
          "output_type": "display_data",
          "data": {
            "text/plain": [
              "\u001b[1mModel: \"sequential_1\"\u001b[0m\n"
            ],
            "text/html": [
              "<pre style=\"white-space:pre;overflow-x:auto;line-height:normal;font-family:Menlo,'DejaVu Sans Mono',consolas,'Courier New',monospace\"><span style=\"font-weight: bold\">Model: \"sequential_1\"</span>\n",
              "</pre>\n"
            ]
          },
          "metadata": {}
        },
        {
          "output_type": "display_data",
          "data": {
            "text/plain": [
              "┏━━━━━━━━━━━━━━━━━━━━━━━━━━━━━━━━━┳━━━━━━━━━━━━━━━━━━━━━━━━┳━━━━━━━━━━━━━━━┓\n",
              "┃\u001b[1m \u001b[0m\u001b[1mLayer (type)                   \u001b[0m\u001b[1m \u001b[0m┃\u001b[1m \u001b[0m\u001b[1mOutput Shape          \u001b[0m\u001b[1m \u001b[0m┃\u001b[1m \u001b[0m\u001b[1m      Param #\u001b[0m\u001b[1m \u001b[0m┃\n",
              "┡━━━━━━━━━━━━━━━━━━━━━━━━━━━━━━━━━╇━━━━━━━━━━━━━━━━━━━━━━━━╇━━━━━━━━━━━━━━━┩\n",
              "│ dense_3 (\u001b[38;5;33mDense\u001b[0m)                 │ (\u001b[38;5;45mNone\u001b[0m, \u001b[38;5;34m64\u001b[0m)             │           \u001b[38;5;34m640\u001b[0m │\n",
              "├─────────────────────────────────┼────────────────────────┼───────────────┤\n",
              "│ dropout_1 (\u001b[38;5;33mDropout\u001b[0m)             │ (\u001b[38;5;45mNone\u001b[0m, \u001b[38;5;34m64\u001b[0m)             │             \u001b[38;5;34m0\u001b[0m │\n",
              "├─────────────────────────────────┼────────────────────────┼───────────────┤\n",
              "│ dense_4 (\u001b[38;5;33mDense\u001b[0m)                 │ (\u001b[38;5;45mNone\u001b[0m, \u001b[38;5;34m32\u001b[0m)             │         \u001b[38;5;34m2,080\u001b[0m │\n",
              "├─────────────────────────────────┼────────────────────────┼───────────────┤\n",
              "│ dense_5 (\u001b[38;5;33mDense\u001b[0m)                 │ (\u001b[38;5;45mNone\u001b[0m, \u001b[38;5;34m1\u001b[0m)              │            \u001b[38;5;34m33\u001b[0m │\n",
              "└─────────────────────────────────┴────────────────────────┴───────────────┘\n"
            ],
            "text/html": [
              "<pre style=\"white-space:pre;overflow-x:auto;line-height:normal;font-family:Menlo,'DejaVu Sans Mono',consolas,'Courier New',monospace\">┏━━━━━━━━━━━━━━━━━━━━━━━━━━━━━━━━━┳━━━━━━━━━━━━━━━━━━━━━━━━┳━━━━━━━━━━━━━━━┓\n",
              "┃<span style=\"font-weight: bold\"> Layer (type)                    </span>┃<span style=\"font-weight: bold\"> Output Shape           </span>┃<span style=\"font-weight: bold\">       Param # </span>┃\n",
              "┡━━━━━━━━━━━━━━━━━━━━━━━━━━━━━━━━━╇━━━━━━━━━━━━━━━━━━━━━━━━╇━━━━━━━━━━━━━━━┩\n",
              "│ dense_3 (<span style=\"color: #0087ff; text-decoration-color: #0087ff\">Dense</span>)                 │ (<span style=\"color: #00d7ff; text-decoration-color: #00d7ff\">None</span>, <span style=\"color: #00af00; text-decoration-color: #00af00\">64</span>)             │           <span style=\"color: #00af00; text-decoration-color: #00af00\">640</span> │\n",
              "├─────────────────────────────────┼────────────────────────┼───────────────┤\n",
              "│ dropout_1 (<span style=\"color: #0087ff; text-decoration-color: #0087ff\">Dropout</span>)             │ (<span style=\"color: #00d7ff; text-decoration-color: #00d7ff\">None</span>, <span style=\"color: #00af00; text-decoration-color: #00af00\">64</span>)             │             <span style=\"color: #00af00; text-decoration-color: #00af00\">0</span> │\n",
              "├─────────────────────────────────┼────────────────────────┼───────────────┤\n",
              "│ dense_4 (<span style=\"color: #0087ff; text-decoration-color: #0087ff\">Dense</span>)                 │ (<span style=\"color: #00d7ff; text-decoration-color: #00d7ff\">None</span>, <span style=\"color: #00af00; text-decoration-color: #00af00\">32</span>)             │         <span style=\"color: #00af00; text-decoration-color: #00af00\">2,080</span> │\n",
              "├─────────────────────────────────┼────────────────────────┼───────────────┤\n",
              "│ dense_5 (<span style=\"color: #0087ff; text-decoration-color: #0087ff\">Dense</span>)                 │ (<span style=\"color: #00d7ff; text-decoration-color: #00d7ff\">None</span>, <span style=\"color: #00af00; text-decoration-color: #00af00\">1</span>)              │            <span style=\"color: #00af00; text-decoration-color: #00af00\">33</span> │\n",
              "└─────────────────────────────────┴────────────────────────┴───────────────┘\n",
              "</pre>\n"
            ]
          },
          "metadata": {}
        },
        {
          "output_type": "display_data",
          "data": {
            "text/plain": [
              "\u001b[1m Total params: \u001b[0m\u001b[38;5;34m2,753\u001b[0m (10.75 KB)\n"
            ],
            "text/html": [
              "<pre style=\"white-space:pre;overflow-x:auto;line-height:normal;font-family:Menlo,'DejaVu Sans Mono',consolas,'Courier New',monospace\"><span style=\"font-weight: bold\"> Total params: </span><span style=\"color: #00af00; text-decoration-color: #00af00\">2,753</span> (10.75 KB)\n",
              "</pre>\n"
            ]
          },
          "metadata": {}
        },
        {
          "output_type": "display_data",
          "data": {
            "text/plain": [
              "\u001b[1m Trainable params: \u001b[0m\u001b[38;5;34m2,753\u001b[0m (10.75 KB)\n"
            ],
            "text/html": [
              "<pre style=\"white-space:pre;overflow-x:auto;line-height:normal;font-family:Menlo,'DejaVu Sans Mono',consolas,'Courier New',monospace\"><span style=\"font-weight: bold\"> Trainable params: </span><span style=\"color: #00af00; text-decoration-color: #00af00\">2,753</span> (10.75 KB)\n",
              "</pre>\n"
            ]
          },
          "metadata": {}
        },
        {
          "output_type": "display_data",
          "data": {
            "text/plain": [
              "\u001b[1m Non-trainable params: \u001b[0m\u001b[38;5;34m0\u001b[0m (0.00 B)\n"
            ],
            "text/html": [
              "<pre style=\"white-space:pre;overflow-x:auto;line-height:normal;font-family:Menlo,'DejaVu Sans Mono',consolas,'Courier New',monospace\"><span style=\"font-weight: bold\"> Non-trainable params: </span><span style=\"color: #00af00; text-decoration-color: #00af00\">0</span> (0.00 B)\n",
              "</pre>\n"
            ]
          },
          "metadata": {}
        }
      ]
    },
    {
      "cell_type": "markdown",
      "source": [
        "### Training process"
      ],
      "metadata": {
        "id": "CadQNYxjoXOJ"
      }
    },
    {
      "cell_type": "code",
      "source": [
        "# Define Early Stopping callback\n",
        "early_stopping = EarlyStopping(monitor='val_loss', patience=10, restore_best_weights=True)\n",
        "\n",
        "# Fit the model\n",
        "history = model.fit(X_train, y_train, epochs=100, batch_size=32, validation_split=0.2, callbacks=[early_stopping])"
      ],
      "metadata": {
        "colab": {
          "base_uri": "https://localhost:8080/"
        },
        "id": "xxfuN1GjoeGy",
        "outputId": "2827a346-97da-4089-9b66-1a88ffeba4d2"
      },
      "execution_count": 49,
      "outputs": [
        {
          "output_type": "stream",
          "name": "stdout",
          "text": [
            "Epoch 1/100\n",
            "\u001b[1m58/58\u001b[0m \u001b[32m━━━━━━━━━━━━━━━━━━━━\u001b[0m\u001b[37m\u001b[0m \u001b[1m3s\u001b[0m 18ms/step - accuracy: 0.5724 - loss: 209.2225 - precision_1: 0.4085 - recall_1: 0.3082 - val_accuracy: 0.4641 - val_loss: 15.8804 - val_precision_1: 0.4106 - val_recall_1: 0.6458\n",
            "Epoch 2/100\n",
            "\u001b[1m58/58\u001b[0m \u001b[32m━━━━━━━━━━━━━━━━━━━━\u001b[0m\u001b[37m\u001b[0m \u001b[1m1s\u001b[0m 6ms/step - accuracy: 0.5205 - loss: 202.1081 - precision_1: 0.3777 - recall_1: 0.3935 - val_accuracy: 0.4532 - val_loss: 18.1945 - val_precision_1: 0.4109 - val_recall_1: 0.7083\n",
            "Epoch 3/100\n",
            "\u001b[1m58/58\u001b[0m \u001b[32m━━━━━━━━━━━━━━━━━━━━\u001b[0m\u001b[37m\u001b[0m \u001b[1m1s\u001b[0m 8ms/step - accuracy: 0.5254 - loss: 193.1433 - precision_1: 0.3701 - recall_1: 0.3933 - val_accuracy: 0.5643 - val_loss: 10.3026 - val_precision_1: 0.4474 - val_recall_1: 0.1771\n",
            "Epoch 4/100\n",
            "\u001b[1m58/58\u001b[0m \u001b[32m━━━━━━━━━━━━━━━━━━━━\u001b[0m\u001b[37m\u001b[0m \u001b[1m0s\u001b[0m 7ms/step - accuracy: 0.5553 - loss: 168.2861 - precision_1: 0.4218 - recall_1: 0.4181 - val_accuracy: 0.5817 - val_loss: 27.5784 - val_precision_1: 0.0000e+00 - val_recall_1: 0.0000e+00\n",
            "Epoch 5/100\n",
            "\u001b[1m58/58\u001b[0m \u001b[32m━━━━━━━━━━━━━━━━━━━━\u001b[0m\u001b[37m\u001b[0m \u001b[1m0s\u001b[0m 6ms/step - accuracy: 0.5391 - loss: 158.4557 - precision_1: 0.3854 - recall_1: 0.3674 - val_accuracy: 0.4466 - val_loss: 30.2902 - val_precision_1: 0.4217 - val_recall_1: 0.8698\n",
            "Epoch 6/100\n",
            "\u001b[1m58/58\u001b[0m \u001b[32m━━━━━━━━━━━━━━━━━━━━\u001b[0m\u001b[37m\u001b[0m \u001b[1m1s\u001b[0m 4ms/step - accuracy: 0.5337 - loss: 161.2462 - precision_1: 0.3825 - recall_1: 0.4052 - val_accuracy: 0.5817 - val_loss: 17.6346 - val_precision_1: 0.0000e+00 - val_recall_1: 0.0000e+00\n",
            "Epoch 7/100\n",
            "\u001b[1m58/58\u001b[0m \u001b[32m━━━━━━━━━━━━━━━━━━━━\u001b[0m\u001b[37m\u001b[0m \u001b[1m0s\u001b[0m 4ms/step - accuracy: 0.5113 - loss: 156.1243 - precision_1: 0.3748 - recall_1: 0.3990 - val_accuracy: 0.5817 - val_loss: 18.0517 - val_precision_1: 0.0000e+00 - val_recall_1: 0.0000e+00\n",
            "Epoch 8/100\n",
            "\u001b[1m58/58\u001b[0m \u001b[32m━━━━━━━━━━━━━━━━━━━━\u001b[0m\u001b[37m\u001b[0m \u001b[1m0s\u001b[0m 4ms/step - accuracy: 0.5289 - loss: 146.7123 - precision_1: 0.3608 - recall_1: 0.3304 - val_accuracy: 0.4880 - val_loss: 11.0234 - val_precision_1: 0.4218 - val_recall_1: 0.6042\n",
            "Epoch 9/100\n",
            "\u001b[1m58/58\u001b[0m \u001b[32m━━━━━━━━━━━━━━━━━━━━\u001b[0m\u001b[37m\u001b[0m \u001b[1m0s\u001b[0m 4ms/step - accuracy: 0.5320 - loss: 138.4530 - precision_1: 0.3971 - recall_1: 0.4108 - val_accuracy: 0.5054 - val_loss: 7.7000 - val_precision_1: 0.3964 - val_recall_1: 0.3490\n",
            "Epoch 10/100\n",
            "\u001b[1m58/58\u001b[0m \u001b[32m━━━━━━━━━━━━━━━━━━━━\u001b[0m\u001b[37m\u001b[0m \u001b[1m0s\u001b[0m 4ms/step - accuracy: 0.5357 - loss: 118.8586 - precision_1: 0.3835 - recall_1: 0.3879 - val_accuracy: 0.5272 - val_loss: 7.4605 - val_precision_1: 0.4126 - val_recall_1: 0.3073\n",
            "Epoch 11/100\n",
            "\u001b[1m58/58\u001b[0m \u001b[32m━━━━━━━━━━━━━━━━━━━━\u001b[0m\u001b[37m\u001b[0m \u001b[1m0s\u001b[0m 4ms/step - accuracy: 0.5476 - loss: 114.5295 - precision_1: 0.4080 - recall_1: 0.3956 - val_accuracy: 0.4248 - val_loss: 28.2145 - val_precision_1: 0.4159 - val_recall_1: 0.9271\n",
            "Epoch 12/100\n",
            "\u001b[1m58/58\u001b[0m \u001b[32m━━━━━━━━━━━━━━━━━━━━\u001b[0m\u001b[37m\u001b[0m \u001b[1m0s\u001b[0m 4ms/step - accuracy: 0.5167 - loss: 108.1368 - precision_1: 0.3643 - recall_1: 0.3634 - val_accuracy: 0.4379 - val_loss: 22.3163 - val_precision_1: 0.4199 - val_recall_1: 0.9010\n",
            "Epoch 13/100\n",
            "\u001b[1m58/58\u001b[0m \u001b[32m━━━━━━━━━━━━━━━━━━━━\u001b[0m\u001b[37m\u001b[0m \u001b[1m0s\u001b[0m 4ms/step - accuracy: 0.5371 - loss: 110.6597 - precision_1: 0.4030 - recall_1: 0.3757 - val_accuracy: 0.5773 - val_loss: 8.5950 - val_precision_1: 0.4375 - val_recall_1: 0.0365\n",
            "Epoch 14/100\n",
            "\u001b[1m58/58\u001b[0m \u001b[32m━━━━━━━━━━━━━━━━━━━━\u001b[0m\u001b[37m\u001b[0m \u001b[1m0s\u001b[0m 4ms/step - accuracy: 0.5160 - loss: 109.8381 - precision_1: 0.3502 - recall_1: 0.3248 - val_accuracy: 0.4205 - val_loss: 40.5594 - val_precision_1: 0.4185 - val_recall_1: 0.9896\n",
            "Epoch 15/100\n",
            "\u001b[1m58/58\u001b[0m \u001b[32m━━━━━━━━━━━━━━━━━━━━\u001b[0m\u001b[37m\u001b[0m \u001b[1m0s\u001b[0m 4ms/step - accuracy: 0.5212 - loss: 101.0579 - precision_1: 0.3823 - recall_1: 0.3820 - val_accuracy: 0.4205 - val_loss: 41.6762 - val_precision_1: 0.4185 - val_recall_1: 0.9896\n",
            "Epoch 16/100\n",
            "\u001b[1m58/58\u001b[0m \u001b[32m━━━━━━━━━━━━━━━━━━━━\u001b[0m\u001b[37m\u001b[0m \u001b[1m0s\u001b[0m 4ms/step - accuracy: 0.5319 - loss: 83.9816 - precision_1: 0.3658 - recall_1: 0.3915 - val_accuracy: 0.4488 - val_loss: 16.4255 - val_precision_1: 0.4258 - val_recall_1: 0.9115\n",
            "Epoch 17/100\n",
            "\u001b[1m58/58\u001b[0m \u001b[32m━━━━━━━━━━━━━━━━━━━━\u001b[0m\u001b[37m\u001b[0m \u001b[1m0s\u001b[0m 4ms/step - accuracy: 0.5252 - loss: 88.6866 - precision_1: 0.3917 - recall_1: 0.3732 - val_accuracy: 0.4270 - val_loss: 18.4653 - val_precision_1: 0.4169 - val_recall_1: 0.9271\n",
            "Epoch 18/100\n",
            "\u001b[1m58/58\u001b[0m \u001b[32m━━━━━━━━━━━━━━━━━━━━\u001b[0m\u001b[37m\u001b[0m \u001b[1m0s\u001b[0m 4ms/step - accuracy: 0.5231 - loss: 80.0837 - precision_1: 0.3783 - recall_1: 0.3740 - val_accuracy: 0.4510 - val_loss: 9.9478 - val_precision_1: 0.4167 - val_recall_1: 0.7812\n",
            "Epoch 19/100\n",
            "\u001b[1m58/58\u001b[0m \u001b[32m━━━━━━━━━━━━━━━━━━━━\u001b[0m\u001b[37m\u001b[0m \u001b[1m0s\u001b[0m 4ms/step - accuracy: 0.5367 - loss: 75.7091 - precision_1: 0.3898 - recall_1: 0.4067 - val_accuracy: 0.4205 - val_loss: 33.6644 - val_precision_1: 0.4178 - val_recall_1: 0.9792\n",
            "Epoch 20/100\n",
            "\u001b[1m58/58\u001b[0m \u001b[32m━━━━━━━━━━━━━━━━━━━━\u001b[0m\u001b[37m\u001b[0m \u001b[1m0s\u001b[0m 4ms/step - accuracy: 0.5301 - loss: 69.0135 - precision_1: 0.3639 - recall_1: 0.3528 - val_accuracy: 0.4227 - val_loss: 42.0031 - val_precision_1: 0.4191 - val_recall_1: 0.9844\n"
          ]
        }
      ]
    },
    {
      "cell_type": "code",
      "source": [
        "#  Evaluate the model with all returned metrics\n",
        "loss, accuracy, precision, recall = model.evaluate(X_test, y_test, verbose=0)\n",
        "\n",
        "print(f\"Test Loss: {loss:.4f}\")\n",
        "print(f\"Test Accuracy: {accuracy:.4f}\")\n",
        "print(f\"Test Precision: {precision:.4f}\")\n",
        "print(f\"Test Recall: {recall:.4f}\")\n",
        "\n",
        "\n",
        "# Plot training history\n",
        "plt.figure(figsize=(12, 4))\n",
        "\n",
        "plt.subplot(1, 2, 1)\n",
        "plt.plot(history.history['accuracy'])\n",
        "plt.plot(history.history['val_accuracy'])\n",
        "plt.title('Model Accuracy')\n",
        "plt.ylabel('Accuracy')\n",
        "plt.xlabel('Epoch')\n",
        "plt.legend(['Train', 'Validation'], loc='upper left')\n",
        "\n",
        "plt.subplot(1, 2, 2)\n",
        "plt.plot(history.history['loss'])\n",
        "plt.plot(history.history['val_loss'])\n",
        "plt.title('Model Loss')\n",
        "plt.ylabel('Loss')\n",
        "plt.xlabel('Epoch')\n",
        "plt.legend(['Train', 'Validation'], loc='upper left')\n",
        "\n",
        "plt.show()"
      ],
      "metadata": {
        "colab": {
          "base_uri": "https://localhost:8080/",
          "height": 479
        },
        "id": "i0f6cslfowKa",
        "outputId": "c6839c07-545a-4b21-ab38-7c5409dd0370"
      },
      "execution_count": 50,
      "outputs": [
        {
          "output_type": "stream",
          "name": "stdout",
          "text": [
            "Test Loss: 6.3301\n",
            "Test Accuracy: 0.5630\n",
            "Test Precision: 0.4286\n",
            "Test Recall: 0.3594\n"
          ]
        },
        {
          "output_type": "display_data",
          "data": {
            "text/plain": [
              "<Figure size 1200x400 with 2 Axes>"
            ],
            "image/png": "[encoded data removed]"
          },
          "metadata": {}
        }
      ]
    },
    {
      "cell_type": "code",
      "source": [
        "from sklearn.metrics import confusion_matrix, classification_report\n",
        "import numpy as np\n",
        "\n",
        "# Get predictions\n",
        "y_pred_proba = model.predict(X_test)\n",
        "y_pred = (y_pred_proba > 0.5).astype(int)\n",
        "\n",
        "# Generate confusion matrix\n",
        "cm = confusion_matrix(y_test, y_pred)\n",
        "\n",
        "# Visualize confusion matrix\n",
        "plt.figure(figsize=(8, 6))\n",
        "sns.heatmap(cm, annot=True, fmt='d', cmap='Oranges', xticklabels=['Not Potable', 'Potable'], yticklabels=['Not Potable', 'Potable'])\n",
        "plt.xlabel('Predicted')\n",
        "plt.ylabel('Actual')\n",
        "plt.title('Confusion Matrix')\n",
        "plt.show()\n",
        "\n",
        "# Print classification report\n",
        "print(\"\\nClassification Report:\")\n",
        "print(classification_report(y_test, y_pred, target_names=['Not Potable', 'Potable']))"
      ],
      "metadata": {
        "colab": {
          "base_uri": "https://localhost:8080/",
          "height": 772
        },
        "id": "2qSqk65wo4mX",
        "outputId": "2a67a482-6f9a-434e-fae9-7b7418ccf354"
      },
      "execution_count": 51,
      "outputs": [
        {
          "output_type": "stream",
          "name": "stdout",
          "text": [
            "\u001b[1m16/16\u001b[0m \u001b[32m━━━━━━━━━━━━━━━━━━━━\u001b[0m\u001b[37m\u001b[0m \u001b[1m0s\u001b[0m 5ms/step\n"
          ]
        },
        {
          "output_type": "display_data",
          "data": {
            "text/plain": [
              "<Figure size 800x600 with 2 Axes>"
            ],
            "image/png": "[encoded data removed]"
          },
          "metadata": {}
        },
        {
          "output_type": "stream",
          "name": "stdout",
          "text": [
            "\n",
            "Classification Report:\n",
            "              precision    recall  f1-score   support\n",
            "\n",
            " Not Potable       0.63      0.69      0.66       300\n",
            "     Potable       0.43      0.36      0.39       192\n",
            "\n",
            "    accuracy                           0.56       492\n",
            "   macro avg       0.53      0.53      0.53       492\n",
            "weighted avg       0.55      0.56      0.55       492\n",
            "\n"
          ]
        }
      ]
    },
    {
      "cell_type": "code",
      "source": [
        "    # Calculate Metrics\n",
        "    accuracy = accuracy_score(y_test, y_pred)\n",
        "    precision = precision_score(y_test, y_pred, zero_division=0)\n",
        "    recall = recall_score(y_test, y_pred, zero_division=0)\n",
        "    f1 = f1_score(y_test, y_pred, zero_division=0)\n",
        "\n",
        "    print(f\"Test Accuracy:  {accuracy:.4f}\")\n",
        "    print(f\"Test Precision: {precision:.4f}\")\n",
        "    print(f\"Test Recall:    {recall:.4f}\")\n",
        "    print(f\"Test F1 Score:  {f1:.4f}\")\n",
        "\n",
        "    # Display Classification Report\n",
        "    print(\"\\nClassification Report:\")\n",
        "    # The report provides a breakdown of precision, recall, and f1-score for each class.\n",
        "    print(classification_report(y_test, y_pred, zero_division=0))"
      ],
      "metadata": {
        "colab": {
          "base_uri": "https://localhost:8080/"
        },
        "id": "Xo8B5FfCpu2L",
        "outputId": "6f879075-5f4f-4aef-9f72-c0c4736d8b24"
      },
      "execution_count": 55,
      "outputs": [
        {
          "output_type": "stream",
          "name": "stdout",
          "text": [
            "Test Accuracy:  0.5630\n",
            "Test Precision: 0.4286\n",
            "Test Recall:    0.3594\n",
            "Test F1 Score:  0.3909\n",
            "\n",
            "Classification Report:\n",
            "              precision    recall  f1-score   support\n",
            "\n",
            "           0       0.63      0.69      0.66       300\n",
            "           1       0.43      0.36      0.39       192\n",
            "\n",
            "    accuracy                           0.56       492\n",
            "   macro avg       0.53      0.53      0.53       492\n",
            "weighted avg       0.55      0.56      0.55       492\n",
            "\n"
          ]
        }
      ]
    }
  ],
  "metadata": {
    "kernelspec": {
      "display_name": ".venv",
      "language": "python",
      "name": "python3"
    },
    "language_info": {
      "codemirror_mode": {
        "name": "ipython",
        "version": 3
      },
      "file_extension": ".py",
      "mimetype": "text/x-python",
      "name": "python",
      "nbconvert_exporter": "python",
      "pygments_lexer": "ipython3",
      "version": "3.9.6"
    },
    "colab": {
      "provenance": [],
      "include_colab_link": true
    }
  },
  "nbformat": 4,
  "nbformat_minor": 0
}